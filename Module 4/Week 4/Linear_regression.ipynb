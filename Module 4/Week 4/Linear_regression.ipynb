{
 "cells": [
  {
   "cell_type": "code",
   "execution_count": 1,
   "metadata": {},
   "outputs": [],
   "source": [
    "import numpy as np"
   ]
  },
  {
   "cell_type": "code",
   "execution_count": 3,
   "metadata": {},
   "outputs": [],
   "source": [
    "class CustomLinearRegression :\n",
    "    def __init__ ( self , X_data , y_target , learning_rate =0.01 , num_epochs =10000):\n",
    "        self . num_samples = X_data . shape [0]\n",
    "        self . X_data = np . c_ [ np . ones (( self . num_samples , 1) ) , X_data ]\n",
    "        self . y_target = y_target\n",
    "        self . learning_rate = learning_rate\n",
    "        self . num_epochs = num_epochs\n",
    "\n",
    "        # Initial weights\n",
    "        self . theta = np . random . randn ( self . X_data . shape [1] , 1)\n",
    "        self . losses = []\n",
    "\n",
    "    def compute_loss ( self , y_pred , y_target ) :\n",
    "        loss = (y_pred - y_target)**2\n",
    "        return loss\n",
    "\n",
    "    def predict ( self , X_data ) :\n",
    "        y_pred = X_data.dot(self.theta)\n",
    "        return y_pred\n",
    "\n",
    "    def fit ( self ) :\n",
    "        for epoch in range ( self . num_epochs ) :\n",
    "\n",
    "            y_pred = self.predict(self.X_data)\n",
    "\n",
    "            loss = self.compute(y_pred, self.y_target)\n",
    "            self.losses.append(loss)\n",
    "\n",
    "            loss_grd = 2*(y_pred  - self.y_target)/self.num_samples\n",
    "            gradients = self.X_data.T.dot(loss_grd)\n",
    "\n",
    "            self.theta = self.theta - self.learning_rate*gradients\n",
    "\n",
    "            if ( epoch % 50) == 0:\n",
    "                print(f'Epoch : { epoch } - Loss : { loss }')\n",
    "\n",
    "        return {\n",
    "        'loss' : sum( self . losses ) /len( self . losses ) ,\n",
    "        }"
   ]
  },
  {
   "cell_type": "code",
   "execution_count": 4,
   "metadata": {},
   "outputs": [],
   "source": [
    "def r2score ( y_pred , y ):\n",
    "    rss = np . sum (( y_pred - y ) ** 2)\n",
    "    tss = np . sum (( y - y . mean () ) ** 2)\n",
    "    r2 = 1 - ( rss / tss )\n",
    "    return r2"
   ]
  },
  {
   "cell_type": "code",
   "execution_count": 5,
   "metadata": {},
   "outputs": [
    {
     "name": "stdout",
     "output_type": "stream",
     "text": [
      "1.0\n",
      "-2.235294117647059\n"
     ]
    }
   ],
   "source": [
    "#Case 1\n",
    "y_pred = np . array ([1 , 2 , 3 , 4 , 5])\n",
    "y = np . array ([1 , 2 , 3 , 4 , 5])\n",
    "print(r2score ( y_pred , y ))\n",
    "\n",
    "# Case 2\n",
    "y_pred = np . array ([1 , 2 , 3 , 4 , 5])\n",
    "y = np . array ([3 , 5 , 5 , 2 , 4])\n",
    "print(r2score ( y_pred , y ))"
   ]
  }
 ],
 "metadata": {
  "kernelspec": {
   "display_name": "myenv",
   "language": "python",
   "name": "python3"
  },
  "language_info": {
   "codemirror_mode": {
    "name": "ipython",
    "version": 3
   },
   "file_extension": ".py",
   "mimetype": "text/x-python",
   "name": "python",
   "nbconvert_exporter": "python",
   "pygments_lexer": "ipython3",
   "version": "3.8.19"
  }
 },
 "nbformat": 4,
 "nbformat_minor": 2
}

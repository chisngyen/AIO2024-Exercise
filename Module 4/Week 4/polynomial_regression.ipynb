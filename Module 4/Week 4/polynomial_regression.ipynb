{
 "cells": [
  {
   "cell_type": "code",
   "execution_count": 1,
   "metadata": {},
   "outputs": [],
   "source": [
    "import numpy as np"
   ]
  },
  {
   "cell_type": "code",
   "execution_count": 2,
   "metadata": {},
   "outputs": [],
   "source": [
    "def create_polynomial_features (X , degree =2):\n",
    "    X_new = X\n",
    "    for d in range (2 , degree +1) :\n",
    "        X_new = np . c_ [ X_new , np . power (X , d ) ]\n",
    "    return X_new\n",
    "\n",
    "X = np . array ([[1] , [2] , [3]])"
   ]
  },
  {
   "cell_type": "code",
   "execution_count": 3,
   "metadata": {},
   "outputs": [
    {
     "data": {
      "text/plain": [
       "array([[1, 1],\n",
       "       [2, 4],\n",
       "       [3, 9]])"
      ]
     },
     "execution_count": 3,
     "metadata": {},
     "output_type": "execute_result"
    }
   ],
   "source": [
    "x_new = create_polynomial_features(X, degree = 2)\n",
    "x_new"
   ]
  },
  {
   "cell_type": "code",
   "execution_count": 4,
   "metadata": {},
   "outputs": [],
   "source": [
    "def create_polynomial_features (X , degree =2) :\n",
    "    X_mem = []\n",
    "    for X_sub in X . T :\n",
    "        X_sub = X_sub . T\n",
    "        X_new = X_sub\n",
    "        for d in range (2 , degree +1) :\n",
    "            X_new = np . c_ [ X_new , np . power ( X_sub , d ) ]\n",
    "        X_mem . append ( X_new . T )\n",
    "    return np . c_ [ X_mem ]. T"
   ]
  }
 ],
 "metadata": {
  "kernelspec": {
   "display_name": "myenv",
   "language": "python",
   "name": "python3"
  },
  "language_info": {
   "codemirror_mode": {
    "name": "ipython",
    "version": 3
   },
   "file_extension": ".py",
   "mimetype": "text/x-python",
   "name": "python",
   "nbconvert_exporter": "python",
   "pygments_lexer": "ipython3",
   "version": "3.8.19"
  }
 },
 "nbformat": 4,
 "nbformat_minor": 2
}
